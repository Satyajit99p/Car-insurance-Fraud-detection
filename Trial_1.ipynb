{
  "nbformat": 4,
  "nbformat_minor": 0,
  "metadata": {
    "colab": {
      "name": "Trial_1.ipynb",
      "provenance": [],
      "collapsed_sections": [],
      "authorship_tag": "ABX9TyPBeQk2EKcPYuIJ/DBwDgPC",
      "include_colab_link": true
    },
    "kernelspec": {
      "name": "python3",
      "display_name": "Python 3"
    },
    "accelerator": "GPU"
  },
  "cells": [
    {
      "cell_type": "markdown",
      "metadata": {
        "id": "view-in-github",
        "colab_type": "text"
      },
      "source": [
        "<a href=\"https://colab.research.google.com/github/Satyajit99p/Car-insurance-Fraud-detection/blob/main/Trial_1.ipynb\" target=\"_parent\"><img src=\"https://colab.research.google.com/assets/colab-badge.svg\" alt=\"Open In Colab\"/></a>"
      ]
    },
    {
      "cell_type": "code",
      "metadata": {
        "id": "SL4YSaKO7uzu"
      },
      "source": [
        "from google.colab import drive"
      ],
      "execution_count": 3,
      "outputs": []
    },
    {
      "cell_type": "code",
      "metadata": {
        "id": "t2NtPDWN8LNs",
        "outputId": "aaffb02d-bbb1-4999-99b5-c9fcc1f8c9ea",
        "colab": {
          "base_uri": "https://localhost:8080/",
          "height": 34
        }
      },
      "source": [
        "drive.mount('/content/drive')"
      ],
      "execution_count": 4,
      "outputs": [
        {
          "output_type": "stream",
          "text": [
            "Mounted at /content/drive\n"
          ],
          "name": "stdout"
        }
      ]
    },
    {
      "cell_type": "code",
      "metadata": {
        "id": "KUoW3Axh8clO",
        "outputId": "6c58b425-ae29-4910-91b3-2734e77be4d8",
        "colab": {
          "base_uri": "https://localhost:8080/",
          "height": 35
        }
      },
      "source": [
        "import os\n",
        "os.getcwd()"
      ],
      "execution_count": 5,
      "outputs": [
        {
          "output_type": "execute_result",
          "data": {
            "application/vnd.google.colaboratory.intrinsic+json": {
              "type": "string"
            },
            "text/plain": [
              "'/content'"
            ]
          },
          "metadata": {
            "tags": []
          },
          "execution_count": 5
        }
      ]
    },
    {
      "cell_type": "code",
      "metadata": {
        "id": "wuQfeDPL8oD1"
      },
      "source": [
        "os.chdir('/content/drive/My Drive')"
      ],
      "execution_count": 7,
      "outputs": []
    },
    {
      "cell_type": "markdown",
      "metadata": {
        "id": "EmO15gGJOYPx"
      },
      "source": [
        "PREPROCESSING\n"
      ]
    },
    {
      "cell_type": "code",
      "metadata": {
        "id": "btf9h-hL85Y0"
      },
      "source": [
        "import pandas as pd\n",
        "import numpy as np\n",
        "import seaborn as sb"
      ],
      "execution_count": 8,
      "outputs": []
    },
    {
      "cell_type": "code",
      "metadata": {
        "id": "DPEG4Sdj9Doz"
      },
      "source": [
        "data=pd.read_csv('my_carclaims_processed.csv')"
      ],
      "execution_count": 9,
      "outputs": []
    },
    {
      "cell_type": "code",
      "metadata": {
        "id": "c3MUnIBJ9Pur",
        "outputId": "54bb8bd9-8588-4c6c-f1ef-bd58b4110f59",
        "colab": {
          "base_uri": "https://localhost:8080/",
          "height": 334
        }
      },
      "source": [
        "data.describe()"
      ],
      "execution_count": 10,
      "outputs": [
        {
          "output_type": "execute_result",
          "data": {
            "text/html": [
              "<div>\n",
              "<style scoped>\n",
              "    .dataframe tbody tr th:only-of-type {\n",
              "        vertical-align: middle;\n",
              "    }\n",
              "\n",
              "    .dataframe tbody tr th {\n",
              "        vertical-align: top;\n",
              "    }\n",
              "\n",
              "    .dataframe thead th {\n",
              "        text-align: right;\n",
              "    }\n",
              "</style>\n",
              "<table border=\"1\" class=\"dataframe\">\n",
              "  <thead>\n",
              "    <tr style=\"text-align: right;\">\n",
              "      <th></th>\n",
              "      <th>week_past</th>\n",
              "      <th>is_holiday</th>\n",
              "      <th>age_price_wsum</th>\n",
              "      <th>Make</th>\n",
              "      <th>AccidentArea</th>\n",
              "      <th>Sex</th>\n",
              "      <th>MaritalStatus</th>\n",
              "      <th>Fault</th>\n",
              "      <th>VehicleCategory</th>\n",
              "      <th>RepNumber</th>\n",
              "      <th>Deductible</th>\n",
              "      <th>DriverRating</th>\n",
              "      <th>Days:Policy-Accident</th>\n",
              "      <th>Days:Policy-Claim</th>\n",
              "      <th>PastNumberOfClaims</th>\n",
              "      <th>AgeOfPolicyHolder</th>\n",
              "      <th>PoliceReportFiled</th>\n",
              "      <th>WitnessPresent</th>\n",
              "      <th>AgentType</th>\n",
              "      <th>NumberOfSuppliments</th>\n",
              "      <th>AddressChange-Claim</th>\n",
              "      <th>NumberOfCars</th>\n",
              "      <th>BasePolicy</th>\n",
              "      <th>FraudFound</th>\n",
              "    </tr>\n",
              "  </thead>\n",
              "  <tbody>\n",
              "    <tr>\n",
              "      <th>count</th>\n",
              "      <td>15419.000000</td>\n",
              "      <td>15419.000000</td>\n",
              "      <td>15419.000000</td>\n",
              "      <td>15419.000000</td>\n",
              "      <td>15419.000000</td>\n",
              "      <td>15419.000000</td>\n",
              "      <td>15419.000000</td>\n",
              "      <td>15419.000000</td>\n",
              "      <td>15419.000000</td>\n",
              "      <td>15419.000000</td>\n",
              "      <td>15419.000000</td>\n",
              "      <td>15419.000000</td>\n",
              "      <td>15419.000000</td>\n",
              "      <td>15419.000000</td>\n",
              "      <td>15419.000000</td>\n",
              "      <td>15419.000000</td>\n",
              "      <td>15419.000000</td>\n",
              "      <td>15419.000000</td>\n",
              "      <td>15419.000000</td>\n",
              "      <td>15419.000000</td>\n",
              "      <td>15419.000000</td>\n",
              "      <td>15419.000000</td>\n",
              "      <td>15419.000000</td>\n",
              "      <td>15419.000000</td>\n",
              "    </tr>\n",
              "    <tr>\n",
              "      <th>mean</th>\n",
              "      <td>2.719048</td>\n",
              "      <td>0.038264</td>\n",
              "      <td>6.695506</td>\n",
              "      <td>11.114858</td>\n",
              "      <td>1.896426</td>\n",
              "      <td>1.843051</td>\n",
              "      <td>1.705753</td>\n",
              "      <td>1.271743</td>\n",
              "      <td>1.677865</td>\n",
              "      <td>8.482846</td>\n",
              "      <td>407.704780</td>\n",
              "      <td>2.487840</td>\n",
              "      <td>4.972696</td>\n",
              "      <td>2.993644</td>\n",
              "      <td>1.334263</td>\n",
              "      <td>5.892211</td>\n",
              "      <td>1.972242</td>\n",
              "      <td>1.994358</td>\n",
              "      <td>1.015630</td>\n",
              "      <td>2.175433</td>\n",
              "      <td>1.242623</td>\n",
              "      <td>1.098839</td>\n",
              "      <td>2.036384</td>\n",
              "      <td>0.940139</td>\n",
              "    </tr>\n",
              "    <tr>\n",
              "      <th>std</th>\n",
              "      <td>8.337685</td>\n",
              "      <td>0.191840</td>\n",
              "      <td>2.703195</td>\n",
              "      <td>5.282987</td>\n",
              "      <td>0.304716</td>\n",
              "      <td>0.363765</td>\n",
              "      <td>0.480789</td>\n",
              "      <td>0.444872</td>\n",
              "      <td>0.518747</td>\n",
              "      <td>4.599798</td>\n",
              "      <td>43.952379</td>\n",
              "      <td>1.119482</td>\n",
              "      <td>0.286269</td>\n",
              "      <td>0.095078</td>\n",
              "      <td>1.023565</td>\n",
              "      <td>1.395396</td>\n",
              "      <td>0.164284</td>\n",
              "      <td>0.074906</td>\n",
              "      <td>0.124043</td>\n",
              "      <td>1.249113</td>\n",
              "      <td>0.900100</td>\n",
              "      <td>0.383484</td>\n",
              "      <td>0.782336</td>\n",
              "      <td>0.237237</td>\n",
              "    </tr>\n",
              "    <tr>\n",
              "      <th>min</th>\n",
              "      <td>0.000000</td>\n",
              "      <td>0.000000</td>\n",
              "      <td>0.000000</td>\n",
              "      <td>1.000000</td>\n",
              "      <td>1.000000</td>\n",
              "      <td>1.000000</td>\n",
              "      <td>1.000000</td>\n",
              "      <td>1.000000</td>\n",
              "      <td>1.000000</td>\n",
              "      <td>1.000000</td>\n",
              "      <td>300.000000</td>\n",
              "      <td>1.000000</td>\n",
              "      <td>1.000000</td>\n",
              "      <td>1.000000</td>\n",
              "      <td>0.000000</td>\n",
              "      <td>1.000000</td>\n",
              "      <td>1.000000</td>\n",
              "      <td>1.000000</td>\n",
              "      <td>1.000000</td>\n",
              "      <td>1.000000</td>\n",
              "      <td>1.000000</td>\n",
              "      <td>1.000000</td>\n",
              "      <td>1.000000</td>\n",
              "      <td>0.000000</td>\n",
              "    </tr>\n",
              "    <tr>\n",
              "      <th>25%</th>\n",
              "      <td>0.000000</td>\n",
              "      <td>0.000000</td>\n",
              "      <td>5.000000</td>\n",
              "      <td>7.000000</td>\n",
              "      <td>2.000000</td>\n",
              "      <td>2.000000</td>\n",
              "      <td>1.000000</td>\n",
              "      <td>1.000000</td>\n",
              "      <td>1.000000</td>\n",
              "      <td>5.000000</td>\n",
              "      <td>400.000000</td>\n",
              "      <td>1.000000</td>\n",
              "      <td>5.000000</td>\n",
              "      <td>3.000000</td>\n",
              "      <td>0.000000</td>\n",
              "      <td>5.000000</td>\n",
              "      <td>2.000000</td>\n",
              "      <td>2.000000</td>\n",
              "      <td>1.000000</td>\n",
              "      <td>1.000000</td>\n",
              "      <td>1.000000</td>\n",
              "      <td>1.000000</td>\n",
              "      <td>1.000000</td>\n",
              "      <td>1.000000</td>\n",
              "    </tr>\n",
              "    <tr>\n",
              "      <th>50%</th>\n",
              "      <td>1.000000</td>\n",
              "      <td>0.000000</td>\n",
              "      <td>7.000000</td>\n",
              "      <td>10.000000</td>\n",
              "      <td>2.000000</td>\n",
              "      <td>2.000000</td>\n",
              "      <td>2.000000</td>\n",
              "      <td>1.000000</td>\n",
              "      <td>2.000000</td>\n",
              "      <td>8.000000</td>\n",
              "      <td>400.000000</td>\n",
              "      <td>2.000000</td>\n",
              "      <td>5.000000</td>\n",
              "      <td>3.000000</td>\n",
              "      <td>1.000000</td>\n",
              "      <td>6.000000</td>\n",
              "      <td>2.000000</td>\n",
              "      <td>2.000000</td>\n",
              "      <td>1.000000</td>\n",
              "      <td>2.000000</td>\n",
              "      <td>1.000000</td>\n",
              "      <td>1.000000</td>\n",
              "      <td>2.000000</td>\n",
              "      <td>1.000000</td>\n",
              "    </tr>\n",
              "    <tr>\n",
              "      <th>75%</th>\n",
              "      <td>1.000000</td>\n",
              "      <td>0.000000</td>\n",
              "      <td>8.000000</td>\n",
              "      <td>14.000000</td>\n",
              "      <td>2.000000</td>\n",
              "      <td>2.000000</td>\n",
              "      <td>2.000000</td>\n",
              "      <td>2.000000</td>\n",
              "      <td>2.000000</td>\n",
              "      <td>12.000000</td>\n",
              "      <td>400.000000</td>\n",
              "      <td>3.000000</td>\n",
              "      <td>5.000000</td>\n",
              "      <td>3.000000</td>\n",
              "      <td>2.000000</td>\n",
              "      <td>7.000000</td>\n",
              "      <td>2.000000</td>\n",
              "      <td>2.000000</td>\n",
              "      <td>1.000000</td>\n",
              "      <td>4.000000</td>\n",
              "      <td>1.000000</td>\n",
              "      <td>1.000000</td>\n",
              "      <td>3.000000</td>\n",
              "      <td>1.000000</td>\n",
              "    </tr>\n",
              "    <tr>\n",
              "      <th>max</th>\n",
              "      <td>51.000000</td>\n",
              "      <td>1.000000</td>\n",
              "      <td>14.000000</td>\n",
              "      <td>19.000000</td>\n",
              "      <td>2.000000</td>\n",
              "      <td>2.000000</td>\n",
              "      <td>4.000000</td>\n",
              "      <td>2.000000</td>\n",
              "      <td>3.000000</td>\n",
              "      <td>16.000000</td>\n",
              "      <td>700.000000</td>\n",
              "      <td>4.000000</td>\n",
              "      <td>5.000000</td>\n",
              "      <td>3.000000</td>\n",
              "      <td>3.000000</td>\n",
              "      <td>9.000000</td>\n",
              "      <td>2.000000</td>\n",
              "      <td>2.000000</td>\n",
              "      <td>2.000000</td>\n",
              "      <td>4.000000</td>\n",
              "      <td>5.000000</td>\n",
              "      <td>5.000000</td>\n",
              "      <td>3.000000</td>\n",
              "      <td>1.000000</td>\n",
              "    </tr>\n",
              "  </tbody>\n",
              "</table>\n",
              "</div>"
            ],
            "text/plain": [
              "          week_past    is_holiday  ...    BasePolicy    FraudFound\n",
              "count  15419.000000  15419.000000  ...  15419.000000  15419.000000\n",
              "mean       2.719048      0.038264  ...      2.036384      0.940139\n",
              "std        8.337685      0.191840  ...      0.782336      0.237237\n",
              "min        0.000000      0.000000  ...      1.000000      0.000000\n",
              "25%        0.000000      0.000000  ...      1.000000      1.000000\n",
              "50%        1.000000      0.000000  ...      2.000000      1.000000\n",
              "75%        1.000000      0.000000  ...      3.000000      1.000000\n",
              "max       51.000000      1.000000  ...      3.000000      1.000000\n",
              "\n",
              "[8 rows x 24 columns]"
            ]
          },
          "metadata": {
            "tags": []
          },
          "execution_count": 10
        }
      ]
    },
    {
      "cell_type": "code",
      "metadata": {
        "id": "MUuIQbIp9SOD",
        "outputId": "5111bb52-38c2-41bb-8d9e-5a501f5dbfd2",
        "colab": {
          "base_uri": "https://localhost:8080/",
          "height": 544
        }
      },
      "source": [
        "data.info()"
      ],
      "execution_count": 8,
      "outputs": [
        {
          "output_type": "stream",
          "text": [
            "<class 'pandas.core.frame.DataFrame'>\n",
            "RangeIndex: 15419 entries, 0 to 15418\n",
            "Data columns (total 24 columns):\n",
            " #   Column                Non-Null Count  Dtype\n",
            "---  ------                --------------  -----\n",
            " 0   week_past             15419 non-null  int64\n",
            " 1   is_holiday            15419 non-null  int64\n",
            " 2   age_price_wsum        15419 non-null  int64\n",
            " 3   Make                  15419 non-null  int64\n",
            " 4   AccidentArea          15419 non-null  int64\n",
            " 5   Sex                   15419 non-null  int64\n",
            " 6   MaritalStatus         15419 non-null  int64\n",
            " 7   Fault                 15419 non-null  int64\n",
            " 8   VehicleCategory       15419 non-null  int64\n",
            " 9   RepNumber             15419 non-null  int64\n",
            " 10  Deductible            15419 non-null  int64\n",
            " 11  DriverRating          15419 non-null  int64\n",
            " 12  Days:Policy-Accident  15419 non-null  int64\n",
            " 13  Days:Policy-Claim     15419 non-null  int64\n",
            " 14  PastNumberOfClaims    15419 non-null  int64\n",
            " 15  AgeOfPolicyHolder     15419 non-null  int64\n",
            " 16  PoliceReportFiled     15419 non-null  int64\n",
            " 17  WitnessPresent        15419 non-null  int64\n",
            " 18  AgentType             15419 non-null  int64\n",
            " 19  NumberOfSuppliments   15419 non-null  int64\n",
            " 20  AddressChange-Claim   15419 non-null  int64\n",
            " 21  NumberOfCars          15419 non-null  int64\n",
            " 22  BasePolicy            15419 non-null  int64\n",
            " 23  FraudFound            15419 non-null  int64\n",
            "dtypes: int64(24)\n",
            "memory usage: 2.8 MB\n"
          ],
          "name": "stdout"
        }
      ]
    },
    {
      "cell_type": "code",
      "metadata": {
        "id": "KUyFnmsd9Vg6",
        "outputId": "7ed77010-21fd-4641-f5e6-b81773b55c4a",
        "colab": {
          "base_uri": "https://localhost:8080/",
          "height": 396
        }
      },
      "source": [
        "data.head(10)"
      ],
      "execution_count": 9,
      "outputs": [
        {
          "output_type": "execute_result",
          "data": {
            "text/html": [
              "<div>\n",
              "<style scoped>\n",
              "    .dataframe tbody tr th:only-of-type {\n",
              "        vertical-align: middle;\n",
              "    }\n",
              "\n",
              "    .dataframe tbody tr th {\n",
              "        vertical-align: top;\n",
              "    }\n",
              "\n",
              "    .dataframe thead th {\n",
              "        text-align: right;\n",
              "    }\n",
              "</style>\n",
              "<table border=\"1\" class=\"dataframe\">\n",
              "  <thead>\n",
              "    <tr style=\"text-align: right;\">\n",
              "      <th></th>\n",
              "      <th>week_past</th>\n",
              "      <th>is_holiday</th>\n",
              "      <th>age_price_wsum</th>\n",
              "      <th>Make</th>\n",
              "      <th>AccidentArea</th>\n",
              "      <th>Sex</th>\n",
              "      <th>MaritalStatus</th>\n",
              "      <th>Fault</th>\n",
              "      <th>VehicleCategory</th>\n",
              "      <th>RepNumber</th>\n",
              "      <th>Deductible</th>\n",
              "      <th>DriverRating</th>\n",
              "      <th>Days:Policy-Accident</th>\n",
              "      <th>Days:Policy-Claim</th>\n",
              "      <th>PastNumberOfClaims</th>\n",
              "      <th>AgeOfPolicyHolder</th>\n",
              "      <th>PoliceReportFiled</th>\n",
              "      <th>WitnessPresent</th>\n",
              "      <th>AgentType</th>\n",
              "      <th>NumberOfSuppliments</th>\n",
              "      <th>AddressChange-Claim</th>\n",
              "      <th>NumberOfCars</th>\n",
              "      <th>BasePolicy</th>\n",
              "      <th>FraudFound</th>\n",
              "    </tr>\n",
              "  </thead>\n",
              "  <tbody>\n",
              "    <tr>\n",
              "      <th>0</th>\n",
              "      <td>51</td>\n",
              "      <td>0</td>\n",
              "      <td>9</td>\n",
              "      <td>7</td>\n",
              "      <td>2</td>\n",
              "      <td>1</td>\n",
              "      <td>1</td>\n",
              "      <td>1</td>\n",
              "      <td>1</td>\n",
              "      <td>12</td>\n",
              "      <td>300</td>\n",
              "      <td>1</td>\n",
              "      <td>5</td>\n",
              "      <td>3</td>\n",
              "      <td>0</td>\n",
              "      <td>4</td>\n",
              "      <td>2</td>\n",
              "      <td>2</td>\n",
              "      <td>1</td>\n",
              "      <td>1</td>\n",
              "      <td>3</td>\n",
              "      <td>3</td>\n",
              "      <td>3</td>\n",
              "      <td>1</td>\n",
              "    </tr>\n",
              "    <tr>\n",
              "      <th>1</th>\n",
              "      <td>1</td>\n",
              "      <td>0</td>\n",
              "      <td>12</td>\n",
              "      <td>7</td>\n",
              "      <td>2</td>\n",
              "      <td>2</td>\n",
              "      <td>1</td>\n",
              "      <td>1</td>\n",
              "      <td>1</td>\n",
              "      <td>15</td>\n",
              "      <td>400</td>\n",
              "      <td>4</td>\n",
              "      <td>5</td>\n",
              "      <td>3</td>\n",
              "      <td>0</td>\n",
              "      <td>5</td>\n",
              "      <td>1</td>\n",
              "      <td>2</td>\n",
              "      <td>1</td>\n",
              "      <td>1</td>\n",
              "      <td>1</td>\n",
              "      <td>1</td>\n",
              "      <td>2</td>\n",
              "      <td>1</td>\n",
              "    </tr>\n",
              "    <tr>\n",
              "      <th>2</th>\n",
              "      <td>1</td>\n",
              "      <td>0</td>\n",
              "      <td>1</td>\n",
              "      <td>7</td>\n",
              "      <td>2</td>\n",
              "      <td>2</td>\n",
              "      <td>2</td>\n",
              "      <td>1</td>\n",
              "      <td>1</td>\n",
              "      <td>7</td>\n",
              "      <td>400</td>\n",
              "      <td>3</td>\n",
              "      <td>5</td>\n",
              "      <td>3</td>\n",
              "      <td>1</td>\n",
              "      <td>7</td>\n",
              "      <td>2</td>\n",
              "      <td>2</td>\n",
              "      <td>1</td>\n",
              "      <td>1</td>\n",
              "      <td>1</td>\n",
              "      <td>1</td>\n",
              "      <td>2</td>\n",
              "      <td>1</td>\n",
              "    </tr>\n",
              "    <tr>\n",
              "      <th>3</th>\n",
              "      <td>4</td>\n",
              "      <td>0</td>\n",
              "      <td>10</td>\n",
              "      <td>18</td>\n",
              "      <td>1</td>\n",
              "      <td>2</td>\n",
              "      <td>2</td>\n",
              "      <td>2</td>\n",
              "      <td>1</td>\n",
              "      <td>4</td>\n",
              "      <td>400</td>\n",
              "      <td>2</td>\n",
              "      <td>5</td>\n",
              "      <td>3</td>\n",
              "      <td>1</td>\n",
              "      <td>8</td>\n",
              "      <td>1</td>\n",
              "      <td>2</td>\n",
              "      <td>1</td>\n",
              "      <td>4</td>\n",
              "      <td>1</td>\n",
              "      <td>1</td>\n",
              "      <td>3</td>\n",
              "      <td>1</td>\n",
              "    </tr>\n",
              "    <tr>\n",
              "      <th>4</th>\n",
              "      <td>1</td>\n",
              "      <td>0</td>\n",
              "      <td>5</td>\n",
              "      <td>7</td>\n",
              "      <td>2</td>\n",
              "      <td>1</td>\n",
              "      <td>1</td>\n",
              "      <td>2</td>\n",
              "      <td>1</td>\n",
              "      <td>3</td>\n",
              "      <td>400</td>\n",
              "      <td>1</td>\n",
              "      <td>5</td>\n",
              "      <td>3</td>\n",
              "      <td>0</td>\n",
              "      <td>5</td>\n",
              "      <td>2</td>\n",
              "      <td>2</td>\n",
              "      <td>1</td>\n",
              "      <td>1</td>\n",
              "      <td>1</td>\n",
              "      <td>1</td>\n",
              "      <td>2</td>\n",
              "      <td>1</td>\n",
              "    </tr>\n",
              "    <tr>\n",
              "      <th>5</th>\n",
              "      <td>1</td>\n",
              "      <td>0</td>\n",
              "      <td>1</td>\n",
              "      <td>7</td>\n",
              "      <td>2</td>\n",
              "      <td>2</td>\n",
              "      <td>1</td>\n",
              "      <td>2</td>\n",
              "      <td>1</td>\n",
              "      <td>12</td>\n",
              "      <td>400</td>\n",
              "      <td>3</td>\n",
              "      <td>5</td>\n",
              "      <td>3</td>\n",
              "      <td>0</td>\n",
              "      <td>3</td>\n",
              "      <td>2</td>\n",
              "      <td>2</td>\n",
              "      <td>1</td>\n",
              "      <td>3</td>\n",
              "      <td>1</td>\n",
              "      <td>1</td>\n",
              "      <td>2</td>\n",
              "      <td>1</td>\n",
              "    </tr>\n",
              "    <tr>\n",
              "      <th>6</th>\n",
              "      <td>2</td>\n",
              "      <td>0</td>\n",
              "      <td>1</td>\n",
              "      <td>7</td>\n",
              "      <td>2</td>\n",
              "      <td>2</td>\n",
              "      <td>2</td>\n",
              "      <td>2</td>\n",
              "      <td>1</td>\n",
              "      <td>14</td>\n",
              "      <td>400</td>\n",
              "      <td>1</td>\n",
              "      <td>5</td>\n",
              "      <td>3</td>\n",
              "      <td>1</td>\n",
              "      <td>6</td>\n",
              "      <td>2</td>\n",
              "      <td>2</td>\n",
              "      <td>1</td>\n",
              "      <td>2</td>\n",
              "      <td>1</td>\n",
              "      <td>1</td>\n",
              "      <td>2</td>\n",
              "      <td>1</td>\n",
              "    </tr>\n",
              "    <tr>\n",
              "      <th>7</th>\n",
              "      <td>32</td>\n",
              "      <td>0</td>\n",
              "      <td>1</td>\n",
              "      <td>7</td>\n",
              "      <td>2</td>\n",
              "      <td>2</td>\n",
              "      <td>1</td>\n",
              "      <td>1</td>\n",
              "      <td>1</td>\n",
              "      <td>1</td>\n",
              "      <td>400</td>\n",
              "      <td>4</td>\n",
              "      <td>5</td>\n",
              "      <td>3</td>\n",
              "      <td>1</td>\n",
              "      <td>1</td>\n",
              "      <td>2</td>\n",
              "      <td>2</td>\n",
              "      <td>1</td>\n",
              "      <td>1</td>\n",
              "      <td>1</td>\n",
              "      <td>1</td>\n",
              "      <td>2</td>\n",
              "      <td>1</td>\n",
              "    </tr>\n",
              "    <tr>\n",
              "      <th>8</th>\n",
              "      <td>1</td>\n",
              "      <td>0</td>\n",
              "      <td>12</td>\n",
              "      <td>7</td>\n",
              "      <td>2</td>\n",
              "      <td>2</td>\n",
              "      <td>1</td>\n",
              "      <td>1</td>\n",
              "      <td>1</td>\n",
              "      <td>7</td>\n",
              "      <td>400</td>\n",
              "      <td>4</td>\n",
              "      <td>5</td>\n",
              "      <td>3</td>\n",
              "      <td>0</td>\n",
              "      <td>5</td>\n",
              "      <td>2</td>\n",
              "      <td>1</td>\n",
              "      <td>1</td>\n",
              "      <td>3</td>\n",
              "      <td>1</td>\n",
              "      <td>1</td>\n",
              "      <td>2</td>\n",
              "      <td>1</td>\n",
              "    </tr>\n",
              "    <tr>\n",
              "      <th>9</th>\n",
              "      <td>0</td>\n",
              "      <td>0</td>\n",
              "      <td>14</td>\n",
              "      <td>6</td>\n",
              "      <td>2</td>\n",
              "      <td>2</td>\n",
              "      <td>2</td>\n",
              "      <td>1</td>\n",
              "      <td>3</td>\n",
              "      <td>7</td>\n",
              "      <td>400</td>\n",
              "      <td>1</td>\n",
              "      <td>5</td>\n",
              "      <td>3</td>\n",
              "      <td>2</td>\n",
              "      <td>6</td>\n",
              "      <td>2</td>\n",
              "      <td>2</td>\n",
              "      <td>1</td>\n",
              "      <td>3</td>\n",
              "      <td>1</td>\n",
              "      <td>1</td>\n",
              "      <td>1</td>\n",
              "      <td>1</td>\n",
              "    </tr>\n",
              "  </tbody>\n",
              "</table>\n",
              "</div>"
            ],
            "text/plain": [
              "   week_past  is_holiday  age_price_wsum  ...  NumberOfCars  BasePolicy  FraudFound\n",
              "0         51           0               9  ...             3           3           1\n",
              "1          1           0              12  ...             1           2           1\n",
              "2          1           0               1  ...             1           2           1\n",
              "3          4           0              10  ...             1           3           1\n",
              "4          1           0               5  ...             1           2           1\n",
              "5          1           0               1  ...             1           2           1\n",
              "6          2           0               1  ...             1           2           1\n",
              "7         32           0               1  ...             1           2           1\n",
              "8          1           0              12  ...             1           2           1\n",
              "9          0           0              14  ...             1           1           1\n",
              "\n",
              "[10 rows x 24 columns]"
            ]
          },
          "metadata": {
            "tags": []
          },
          "execution_count": 9
        }
      ]
    },
    {
      "cell_type": "code",
      "metadata": {
        "id": "LhS_aQ2qSnL5",
        "outputId": "86889735-5d94-4eeb-ce95-b4683ed2939f",
        "colab": {
          "base_uri": "https://localhost:8080/",
          "height": 34
        }
      },
      "source": [
        "data.shape"
      ],
      "execution_count": 10,
      "outputs": [
        {
          "output_type": "execute_result",
          "data": {
            "text/plain": [
              "(15419, 24)"
            ]
          },
          "metadata": {
            "tags": []
          },
          "execution_count": 10
        }
      ]
    },
    {
      "cell_type": "code",
      "metadata": {
        "id": "PSQQQhByQWe9",
        "outputId": "efdc0ab6-c47a-47dc-bd51-2234f10d4627",
        "colab": {
          "base_uri": "https://localhost:8080/",
          "height": 34
        }
      },
      "source": [
        "df=data\n",
        "type(df)"
      ],
      "execution_count": 11,
      "outputs": [
        {
          "output_type": "execute_result",
          "data": {
            "text/plain": [
              "pandas.core.frame.DataFrame"
            ]
          },
          "metadata": {
            "tags": []
          },
          "execution_count": 11
        }
      ]
    },
    {
      "cell_type": "code",
      "metadata": {
        "id": "KEOsk-v1Sqz-",
        "outputId": "f9188a0c-6eb1-461d-b286-741770fc8556",
        "colab": {
          "base_uri": "https://localhost:8080/",
          "height": 34
        }
      },
      "source": [
        "df.shape"
      ],
      "execution_count": 15,
      "outputs": [
        {
          "output_type": "execute_result",
          "data": {
            "text/plain": [
              "(15419, 24)"
            ]
          },
          "metadata": {
            "tags": []
          },
          "execution_count": 15
        }
      ]
    },
    {
      "cell_type": "code",
      "metadata": {
        "id": "F4-tkClGRnLC",
        "outputId": "89f34bc9-9b18-4ed6-b86e-156a712f1d3a",
        "colab": {
          "base_uri": "https://localhost:8080/",
          "height": 396
        }
      },
      "source": [
        "df.head(10)"
      ],
      "execution_count": 16,
      "outputs": [
        {
          "output_type": "execute_result",
          "data": {
            "text/html": [
              "<div>\n",
              "<style scoped>\n",
              "    .dataframe tbody tr th:only-of-type {\n",
              "        vertical-align: middle;\n",
              "    }\n",
              "\n",
              "    .dataframe tbody tr th {\n",
              "        vertical-align: top;\n",
              "    }\n",
              "\n",
              "    .dataframe thead th {\n",
              "        text-align: right;\n",
              "    }\n",
              "</style>\n",
              "<table border=\"1\" class=\"dataframe\">\n",
              "  <thead>\n",
              "    <tr style=\"text-align: right;\">\n",
              "      <th></th>\n",
              "      <th>week_past</th>\n",
              "      <th>is_holiday</th>\n",
              "      <th>age_price_wsum</th>\n",
              "      <th>Make</th>\n",
              "      <th>AccidentArea</th>\n",
              "      <th>Sex</th>\n",
              "      <th>MaritalStatus</th>\n",
              "      <th>Fault</th>\n",
              "      <th>VehicleCategory</th>\n",
              "      <th>RepNumber</th>\n",
              "      <th>Deductible</th>\n",
              "      <th>DriverRating</th>\n",
              "      <th>Days:Policy-Accident</th>\n",
              "      <th>Days:Policy-Claim</th>\n",
              "      <th>PastNumberOfClaims</th>\n",
              "      <th>AgeOfPolicyHolder</th>\n",
              "      <th>PoliceReportFiled</th>\n",
              "      <th>WitnessPresent</th>\n",
              "      <th>AgentType</th>\n",
              "      <th>NumberOfSuppliments</th>\n",
              "      <th>AddressChange-Claim</th>\n",
              "      <th>NumberOfCars</th>\n",
              "      <th>BasePolicy</th>\n",
              "      <th>FraudFound</th>\n",
              "    </tr>\n",
              "  </thead>\n",
              "  <tbody>\n",
              "    <tr>\n",
              "      <th>0</th>\n",
              "      <td>51</td>\n",
              "      <td>0</td>\n",
              "      <td>9</td>\n",
              "      <td>7</td>\n",
              "      <td>2</td>\n",
              "      <td>1</td>\n",
              "      <td>1</td>\n",
              "      <td>1</td>\n",
              "      <td>1</td>\n",
              "      <td>12</td>\n",
              "      <td>300</td>\n",
              "      <td>1</td>\n",
              "      <td>5</td>\n",
              "      <td>3</td>\n",
              "      <td>0</td>\n",
              "      <td>4</td>\n",
              "      <td>2</td>\n",
              "      <td>2</td>\n",
              "      <td>1</td>\n",
              "      <td>1</td>\n",
              "      <td>3</td>\n",
              "      <td>3</td>\n",
              "      <td>3</td>\n",
              "      <td>1</td>\n",
              "    </tr>\n",
              "    <tr>\n",
              "      <th>1</th>\n",
              "      <td>1</td>\n",
              "      <td>0</td>\n",
              "      <td>12</td>\n",
              "      <td>7</td>\n",
              "      <td>2</td>\n",
              "      <td>2</td>\n",
              "      <td>1</td>\n",
              "      <td>1</td>\n",
              "      <td>1</td>\n",
              "      <td>15</td>\n",
              "      <td>400</td>\n",
              "      <td>4</td>\n",
              "      <td>5</td>\n",
              "      <td>3</td>\n",
              "      <td>0</td>\n",
              "      <td>5</td>\n",
              "      <td>1</td>\n",
              "      <td>2</td>\n",
              "      <td>1</td>\n",
              "      <td>1</td>\n",
              "      <td>1</td>\n",
              "      <td>1</td>\n",
              "      <td>2</td>\n",
              "      <td>1</td>\n",
              "    </tr>\n",
              "    <tr>\n",
              "      <th>2</th>\n",
              "      <td>1</td>\n",
              "      <td>0</td>\n",
              "      <td>1</td>\n",
              "      <td>7</td>\n",
              "      <td>2</td>\n",
              "      <td>2</td>\n",
              "      <td>2</td>\n",
              "      <td>1</td>\n",
              "      <td>1</td>\n",
              "      <td>7</td>\n",
              "      <td>400</td>\n",
              "      <td>3</td>\n",
              "      <td>5</td>\n",
              "      <td>3</td>\n",
              "      <td>1</td>\n",
              "      <td>7</td>\n",
              "      <td>2</td>\n",
              "      <td>2</td>\n",
              "      <td>1</td>\n",
              "      <td>1</td>\n",
              "      <td>1</td>\n",
              "      <td>1</td>\n",
              "      <td>2</td>\n",
              "      <td>1</td>\n",
              "    </tr>\n",
              "    <tr>\n",
              "      <th>3</th>\n",
              "      <td>4</td>\n",
              "      <td>0</td>\n",
              "      <td>10</td>\n",
              "      <td>18</td>\n",
              "      <td>1</td>\n",
              "      <td>2</td>\n",
              "      <td>2</td>\n",
              "      <td>2</td>\n",
              "      <td>1</td>\n",
              "      <td>4</td>\n",
              "      <td>400</td>\n",
              "      <td>2</td>\n",
              "      <td>5</td>\n",
              "      <td>3</td>\n",
              "      <td>1</td>\n",
              "      <td>8</td>\n",
              "      <td>1</td>\n",
              "      <td>2</td>\n",
              "      <td>1</td>\n",
              "      <td>4</td>\n",
              "      <td>1</td>\n",
              "      <td>1</td>\n",
              "      <td>3</td>\n",
              "      <td>1</td>\n",
              "    </tr>\n",
              "    <tr>\n",
              "      <th>4</th>\n",
              "      <td>1</td>\n",
              "      <td>0</td>\n",
              "      <td>5</td>\n",
              "      <td>7</td>\n",
              "      <td>2</td>\n",
              "      <td>1</td>\n",
              "      <td>1</td>\n",
              "      <td>2</td>\n",
              "      <td>1</td>\n",
              "      <td>3</td>\n",
              "      <td>400</td>\n",
              "      <td>1</td>\n",
              "      <td>5</td>\n",
              "      <td>3</td>\n",
              "      <td>0</td>\n",
              "      <td>5</td>\n",
              "      <td>2</td>\n",
              "      <td>2</td>\n",
              "      <td>1</td>\n",
              "      <td>1</td>\n",
              "      <td>1</td>\n",
              "      <td>1</td>\n",
              "      <td>2</td>\n",
              "      <td>1</td>\n",
              "    </tr>\n",
              "    <tr>\n",
              "      <th>5</th>\n",
              "      <td>1</td>\n",
              "      <td>0</td>\n",
              "      <td>1</td>\n",
              "      <td>7</td>\n",
              "      <td>2</td>\n",
              "      <td>2</td>\n",
              "      <td>1</td>\n",
              "      <td>2</td>\n",
              "      <td>1</td>\n",
              "      <td>12</td>\n",
              "      <td>400</td>\n",
              "      <td>3</td>\n",
              "      <td>5</td>\n",
              "      <td>3</td>\n",
              "      <td>0</td>\n",
              "      <td>3</td>\n",
              "      <td>2</td>\n",
              "      <td>2</td>\n",
              "      <td>1</td>\n",
              "      <td>3</td>\n",
              "      <td>1</td>\n",
              "      <td>1</td>\n",
              "      <td>2</td>\n",
              "      <td>1</td>\n",
              "    </tr>\n",
              "    <tr>\n",
              "      <th>6</th>\n",
              "      <td>2</td>\n",
              "      <td>0</td>\n",
              "      <td>1</td>\n",
              "      <td>7</td>\n",
              "      <td>2</td>\n",
              "      <td>2</td>\n",
              "      <td>2</td>\n",
              "      <td>2</td>\n",
              "      <td>1</td>\n",
              "      <td>14</td>\n",
              "      <td>400</td>\n",
              "      <td>1</td>\n",
              "      <td>5</td>\n",
              "      <td>3</td>\n",
              "      <td>1</td>\n",
              "      <td>6</td>\n",
              "      <td>2</td>\n",
              "      <td>2</td>\n",
              "      <td>1</td>\n",
              "      <td>2</td>\n",
              "      <td>1</td>\n",
              "      <td>1</td>\n",
              "      <td>2</td>\n",
              "      <td>1</td>\n",
              "    </tr>\n",
              "    <tr>\n",
              "      <th>7</th>\n",
              "      <td>32</td>\n",
              "      <td>0</td>\n",
              "      <td>1</td>\n",
              "      <td>7</td>\n",
              "      <td>2</td>\n",
              "      <td>2</td>\n",
              "      <td>1</td>\n",
              "      <td>1</td>\n",
              "      <td>1</td>\n",
              "      <td>1</td>\n",
              "      <td>400</td>\n",
              "      <td>4</td>\n",
              "      <td>5</td>\n",
              "      <td>3</td>\n",
              "      <td>1</td>\n",
              "      <td>1</td>\n",
              "      <td>2</td>\n",
              "      <td>2</td>\n",
              "      <td>1</td>\n",
              "      <td>1</td>\n",
              "      <td>1</td>\n",
              "      <td>1</td>\n",
              "      <td>2</td>\n",
              "      <td>1</td>\n",
              "    </tr>\n",
              "    <tr>\n",
              "      <th>8</th>\n",
              "      <td>1</td>\n",
              "      <td>0</td>\n",
              "      <td>12</td>\n",
              "      <td>7</td>\n",
              "      <td>2</td>\n",
              "      <td>2</td>\n",
              "      <td>1</td>\n",
              "      <td>1</td>\n",
              "      <td>1</td>\n",
              "      <td>7</td>\n",
              "      <td>400</td>\n",
              "      <td>4</td>\n",
              "      <td>5</td>\n",
              "      <td>3</td>\n",
              "      <td>0</td>\n",
              "      <td>5</td>\n",
              "      <td>2</td>\n",
              "      <td>1</td>\n",
              "      <td>1</td>\n",
              "      <td>3</td>\n",
              "      <td>1</td>\n",
              "      <td>1</td>\n",
              "      <td>2</td>\n",
              "      <td>1</td>\n",
              "    </tr>\n",
              "    <tr>\n",
              "      <th>9</th>\n",
              "      <td>0</td>\n",
              "      <td>0</td>\n",
              "      <td>14</td>\n",
              "      <td>6</td>\n",
              "      <td>2</td>\n",
              "      <td>2</td>\n",
              "      <td>2</td>\n",
              "      <td>1</td>\n",
              "      <td>3</td>\n",
              "      <td>7</td>\n",
              "      <td>400</td>\n",
              "      <td>1</td>\n",
              "      <td>5</td>\n",
              "      <td>3</td>\n",
              "      <td>2</td>\n",
              "      <td>6</td>\n",
              "      <td>2</td>\n",
              "      <td>2</td>\n",
              "      <td>1</td>\n",
              "      <td>3</td>\n",
              "      <td>1</td>\n",
              "      <td>1</td>\n",
              "      <td>1</td>\n",
              "      <td>1</td>\n",
              "    </tr>\n",
              "  </tbody>\n",
              "</table>\n",
              "</div>"
            ],
            "text/plain": [
              "   week_past  is_holiday  age_price_wsum  ...  NumberOfCars  BasePolicy  FraudFound\n",
              "0         51           0               9  ...             3           3           1\n",
              "1          1           0              12  ...             1           2           1\n",
              "2          1           0               1  ...             1           2           1\n",
              "3          4           0              10  ...             1           3           1\n",
              "4          1           0               5  ...             1           2           1\n",
              "5          1           0               1  ...             1           2           1\n",
              "6          2           0               1  ...             1           2           1\n",
              "7         32           0               1  ...             1           2           1\n",
              "8          1           0              12  ...             1           2           1\n",
              "9          0           0              14  ...             1           1           1\n",
              "\n",
              "[10 rows x 24 columns]"
            ]
          },
          "metadata": {
            "tags": []
          },
          "execution_count": 16
        }
      ]
    },
    {
      "cell_type": "code",
      "metadata": {
        "id": "kkrII5t8Qi4-"
      },
      "source": [
        "# Data is preprocessed\n",
        "# As there is a classification issue addressed, outliers are not present.\n",
        "# There is no missing values and all rows contain polished data.\n",
        "# 'Record_ID','Auction_ID','Bidder_ID' are non-influential in determing the desired classification.so they are omitted."
      ],
      "execution_count": null,
      "outputs": []
    },
    {
      "cell_type": "markdown",
      "metadata": {
        "id": "D6exmly6S2lm"
      },
      "source": [
        "MODEL CREATION AND TRAINING"
      ]
    },
    {
      "cell_type": "code",
      "metadata": {
        "id": "-f0TshdkS9B0"
      },
      "source": [
        "import tensorflow as tf\n",
        "import keras\n",
        "from keras.callbacks import *"
      ],
      "execution_count": 12,
      "outputs": []
    },
    {
      "cell_type": "code",
      "metadata": {
        "id": "fvG4057AY5U3",
        "outputId": "cc4df327-ec81-4b12-a653-510b79d046d9",
        "colab": {
          "base_uri": "https://localhost:8080/",
          "height": 51
        }
      },
      "source": [
        "features=df.iloc[:,:23]\n",
        "labels=df.iloc[:,-1]\n",
        "\n",
        "print(features.shape)\n",
        "print(labels.shape)"
      ],
      "execution_count": 13,
      "outputs": [
        {
          "output_type": "stream",
          "text": [
            "(15419, 23)\n",
            "(15419,)\n"
          ],
          "name": "stdout"
        }
      ]
    },
    {
      "cell_type": "code",
      "metadata": {
        "id": "e2zxK0ICThPd"
      },
      "source": [
        "from sklearn.model_selection import train_test_split\n",
        "\n",
        "x_train_full,x_test,y_train_full,y_test=train_test_split(features,labels,random_state=9)\n",
        "x_train,x_valid,y_train,y_valid=train_test_split(x_train_full,y_train_full,random_state=9)"
      ],
      "execution_count": 14,
      "outputs": []
    },
    {
      "cell_type": "code",
      "metadata": {
        "id": "WG6HuLR-awvn",
        "outputId": "169c23c2-d94f-440f-9f23-1b168c17fc6e",
        "colab": {
          "base_uri": "https://localhost:8080/",
          "height": 34
        }
      },
      "source": [
        "x_train.shape"
      ],
      "execution_count": 15,
      "outputs": [
        {
          "output_type": "execute_result",
          "data": {
            "text/plain": [
              "(8673, 23)"
            ]
          },
          "metadata": {
            "tags": []
          },
          "execution_count": 15
        }
      ]
    },
    {
      "cell_type": "code",
      "metadata": {
        "id": "0G5IIMJEa_Na",
        "outputId": "74a3e243-3cb2-4394-b929-edcf5decaf47",
        "colab": {
          "base_uri": "https://localhost:8080/",
          "height": 34
        }
      },
      "source": [
        "y_train.shape"
      ],
      "execution_count": 26,
      "outputs": [
        {
          "output_type": "execute_result",
          "data": {
            "text/plain": [
              "(8673,)"
            ]
          },
          "metadata": {
            "tags": []
          },
          "execution_count": 26
        }
      ]
    },
    {
      "cell_type": "code",
      "metadata": {
        "id": "TLbwCDw3bE4S",
        "outputId": "0b908184-2be0-4325-e554-523fb7da894a",
        "colab": {
          "base_uri": "https://localhost:8080/",
          "height": 34
        }
      },
      "source": [
        "x_test.shape"
      ],
      "execution_count": 27,
      "outputs": [
        {
          "output_type": "execute_result",
          "data": {
            "text/plain": [
              "(3855, 23)"
            ]
          },
          "metadata": {
            "tags": []
          },
          "execution_count": 27
        }
      ]
    },
    {
      "cell_type": "code",
      "metadata": {
        "id": "JAXzp9DgbHTS",
        "outputId": "8a07854d-1d59-4194-91d7-2a3143411b3e",
        "colab": {
          "base_uri": "https://localhost:8080/",
          "height": 34
        }
      },
      "source": [
        "y_test.shape"
      ],
      "execution_count": 28,
      "outputs": [
        {
          "output_type": "execute_result",
          "data": {
            "text/plain": [
              "(3855,)"
            ]
          },
          "metadata": {
            "tags": []
          },
          "execution_count": 28
        }
      ]
    },
    {
      "cell_type": "code",
      "metadata": {
        "id": "ZQ8rQ6YBbK81",
        "outputId": "bfcb0d44-c3f6-4b49-b107-748b36f2e141",
        "colab": {
          "base_uri": "https://localhost:8080/",
          "height": 34
        }
      },
      "source": [
        "x_valid.shape"
      ],
      "execution_count": 29,
      "outputs": [
        {
          "output_type": "execute_result",
          "data": {
            "text/plain": [
              "(2891, 23)"
            ]
          },
          "metadata": {
            "tags": []
          },
          "execution_count": 29
        }
      ]
    },
    {
      "cell_type": "code",
      "metadata": {
        "id": "WCAws7iLbPiz",
        "outputId": "3e2ea6a8-d729-442f-c52d-c0049c168dbc",
        "colab": {
          "base_uri": "https://localhost:8080/",
          "height": 34
        }
      },
      "source": [
        "y_valid.shape"
      ],
      "execution_count": 30,
      "outputs": [
        {
          "output_type": "execute_result",
          "data": {
            "text/plain": [
              "(2891,)"
            ]
          },
          "metadata": {
            "tags": []
          },
          "execution_count": 30
        }
      ]
    },
    {
      "cell_type": "code",
      "metadata": {
        "id": "P40J9FsD59E7"
      },
      "source": [
        "from sklearn.utils import resample\n",
        "\n",
        "features = pd.concat([x_train, y_train], axis=1)\n",
        "not_fraud = features[features.FraudFound==1]\n",
        "fraud = features[features.FraudFound==0]\n",
        "\n",
        "fraud_unsampled=resample(fraud,\n",
        "                         replace=True,\n",
        "                         n_samples=len(not_fraud),\n",
        "                         random_state=27\n",
        "                         )"
      ],
      "execution_count": 16,
      "outputs": []
    },
    {
      "cell_type": "code",
      "metadata": {
        "id": "TamKxWLx-4Cc",
        "outputId": "16e02c74-92f0-4833-b276-3c22a14ab12c",
        "colab": {
          "base_uri": "https://localhost:8080/",
          "height": 68
        }
      },
      "source": [
        "unsampled=pd.concat([not_fraud,fraud_unsampled])\n",
        "unsampled.FraudFound.value_counts()"
      ],
      "execution_count": 17,
      "outputs": [
        {
          "output_type": "execute_result",
          "data": {
            "text/plain": [
              "1    8169\n",
              "0    8169\n",
              "Name: FraudFound, dtype: int64"
            ]
          },
          "metadata": {
            "tags": []
          },
          "execution_count": 17
        }
      ]
    },
    {
      "cell_type": "code",
      "metadata": {
        "id": "4IJGHBkKzVOM"
      },
      "source": [
        "y_train=unsampled.FraudFound\n",
        "x_train=unsampled.drop('FraudFound',axis=1)"
      ],
      "execution_count": 18,
      "outputs": []
    },
    {
      "cell_type": "code",
      "metadata": {
        "id": "91t-xor5zb48",
        "outputId": "e7174419-87eb-40e6-b68d-7252178f5ed5",
        "colab": {
          "base_uri": "https://localhost:8080/",
          "height": 51
        }
      },
      "source": [
        "print(type(not_fraud))\n",
        "print(type(fraud_unsampled))"
      ],
      "execution_count": 19,
      "outputs": [
        {
          "output_type": "stream",
          "text": [
            "<class 'pandas.core.frame.DataFrame'>\n",
            "<class 'pandas.core.frame.DataFrame'>\n"
          ],
          "name": "stdout"
        }
      ]
    },
    {
      "cell_type": "code",
      "metadata": {
        "id": "tvlYVZ1uzfoh",
        "outputId": "cd7230e3-8f4b-4895-a59d-9b030ea69040",
        "colab": {
          "base_uri": "https://localhost:8080/",
          "height": 51
        }
      },
      "source": [
        "print(x_train.shape)\n",
        "print(y_train.shape)"
      ],
      "execution_count": 20,
      "outputs": [
        {
          "output_type": "stream",
          "text": [
            "(16338, 23)\n",
            "(16338,)\n"
          ],
          "name": "stdout"
        }
      ]
    },
    {
      "cell_type": "code",
      "metadata": {
        "id": "3KmZqtebbQvq"
      },
      "source": [
        "# there is consistent division of the dataset into the training testing and validation biparts\n",
        "# 3555+1581+1185=6321"
      ],
      "execution_count": null,
      "outputs": []
    },
    {
      "cell_type": "code",
      "metadata": {
        "id": "RsWEHp7HcFhn"
      },
      "source": [
        "#np.random.seed(42)\n",
        "#tf.random.set_seed(42)"
      ],
      "execution_count": 21,
      "outputs": []
    },
    {
      "cell_type": "markdown",
      "metadata": {
        "id": "yk_YlzxEcog_"
      },
      "source": [
        "**SEQUENTIAL MODEL**"
      ]
    },
    {
      "cell_type": "code",
      "metadata": {
        "id": "4c9C4ItXckq-"
      },
      "source": [
        "model=keras.models.Sequential([\n",
        "                               keras.layers.Dense(60,kernel_initializer='uniform',activation='relu',input_shape=[23]),\n",
        "                               keras.layers.Dense(60,kernel_initializer='uniform',activation='relu'),\n",
        "                               keras.layers.Dense(1,activation='sigmoid')\n",
        "])"
      ],
      "execution_count": 29,
      "outputs": []
    },
    {
      "cell_type": "code",
      "metadata": {
        "id": "iWA4djZhdJTw",
        "outputId": "becd5418-1c19-41f9-e10e-fac3b325e5a7",
        "colab": {
          "base_uri": "https://localhost:8080/",
          "height": 255
        }
      },
      "source": [
        "model.summary()"
      ],
      "execution_count": 30,
      "outputs": [
        {
          "output_type": "stream",
          "text": [
            "Model: \"sequential_1\"\n",
            "_________________________________________________________________\n",
            "Layer (type)                 Output Shape              Param #   \n",
            "=================================================================\n",
            "dense_3 (Dense)              (None, 60)                1440      \n",
            "_________________________________________________________________\n",
            "dense_4 (Dense)              (None, 60)                3660      \n",
            "_________________________________________________________________\n",
            "dense_5 (Dense)              (None, 1)                 61        \n",
            "=================================================================\n",
            "Total params: 5,161\n",
            "Trainable params: 5,161\n",
            "Non-trainable params: 0\n",
            "_________________________________________________________________\n"
          ],
          "name": "stdout"
        }
      ]
    },
    {
      "cell_type": "code",
      "metadata": {
        "id": "QQ3zZgdndYP8"
      },
      "source": [
        "model.compile(optimizer='adam',\n",
        "              loss='mean_squared_error',\n",
        "              metrics=['accuracy'])"
      ],
      "execution_count": 31,
      "outputs": []
    },
    {
      "cell_type": "code",
      "metadata": {
        "id": "WNfwqi0epAsz"
      },
      "source": [
        "checkpoint=keras.callbacks.ModelCheckpoint('best-Model.h5',save_best_only=True)\n",
        "early=keras.callbacks.EarlyStopping(patience=20,restore_best_weights=True)"
      ],
      "execution_count": 32,
      "outputs": []
    },
    {
      "cell_type": "code",
      "metadata": {
        "id": "u_FrFJsojeK-",
        "outputId": "5b6613e1-f60c-425a-d7f4-4c0ea3363572",
        "colab": {
          "base_uri": "https://localhost:8080/",
          "height": 850
        }
      },
      "source": [
        "model.fit(x_train,y_train,epochs=200,batch_size=10,validation_data=(x_valid,y_valid),callbacks=[checkpoint,early])"
      ],
      "execution_count": 33,
      "outputs": [
        {
          "output_type": "stream",
          "text": [
            "Epoch 1/200\n",
            "1634/1634 [==============================] - 4s 2ms/step - loss: 0.2382 - accuracy: 0.5767 - val_loss: 0.2565 - val_accuracy: 0.4971\n",
            "Epoch 2/200\n",
            "1634/1634 [==============================] - 4s 2ms/step - loss: 0.2034 - accuracy: 0.6856 - val_loss: 0.2463 - val_accuracy: 0.5278\n",
            "Epoch 3/200\n",
            "1634/1634 [==============================] - 3s 2ms/step - loss: 0.1903 - accuracy: 0.7167 - val_loss: 0.2646 - val_accuracy: 0.5209\n",
            "Epoch 4/200\n",
            "1634/1634 [==============================] - 4s 2ms/step - loss: 0.1872 - accuracy: 0.7242 - val_loss: 0.1081 - val_accuracy: 0.8198\n",
            "Epoch 5/200\n",
            "1634/1634 [==============================] - 4s 2ms/step - loss: 0.1839 - accuracy: 0.7306 - val_loss: 0.2161 - val_accuracy: 0.5773\n",
            "Epoch 6/200\n",
            "1634/1634 [==============================] - 4s 2ms/step - loss: 0.1806 - accuracy: 0.7362 - val_loss: 0.1506 - val_accuracy: 0.6987\n",
            "Epoch 7/200\n",
            "1634/1634 [==============================] - 3s 2ms/step - loss: 0.1814 - accuracy: 0.7353 - val_loss: 0.2580 - val_accuracy: 0.5510\n",
            "Epoch 8/200\n",
            "1634/1634 [==============================] - 3s 2ms/step - loss: 0.1795 - accuracy: 0.7362 - val_loss: 0.1393 - val_accuracy: 0.7416\n",
            "Epoch 9/200\n",
            "1634/1634 [==============================] - 4s 2ms/step - loss: 0.1781 - accuracy: 0.7376 - val_loss: 0.1777 - val_accuracy: 0.6313\n",
            "Epoch 10/200\n",
            "1634/1634 [==============================] - 4s 2ms/step - loss: 0.1771 - accuracy: 0.7402 - val_loss: 0.1963 - val_accuracy: 0.6067\n",
            "Epoch 11/200\n",
            "1634/1634 [==============================] - 3s 2ms/step - loss: 0.1766 - accuracy: 0.7420 - val_loss: 0.2494 - val_accuracy: 0.5680\n",
            "Epoch 12/200\n",
            "1634/1634 [==============================] - 4s 2ms/step - loss: 0.1781 - accuracy: 0.7391 - val_loss: 0.1897 - val_accuracy: 0.6365\n",
            "Epoch 13/200\n",
            "1634/1634 [==============================] - 3s 2ms/step - loss: 0.1747 - accuracy: 0.7441 - val_loss: 0.2090 - val_accuracy: 0.5943\n",
            "Epoch 14/200\n",
            "1634/1634 [==============================] - 3s 2ms/step - loss: 0.1774 - accuracy: 0.7364 - val_loss: 0.3180 - val_accuracy: 0.4493\n",
            "Epoch 15/200\n",
            "1634/1634 [==============================] - 4s 2ms/step - loss: 0.1720 - accuracy: 0.7496 - val_loss: 0.1465 - val_accuracy: 0.7222\n",
            "Epoch 16/200\n",
            "1634/1634 [==============================] - 4s 2ms/step - loss: 0.1726 - accuracy: 0.7476 - val_loss: 0.2425 - val_accuracy: 0.5721\n",
            "Epoch 17/200\n",
            "1634/1634 [==============================] - 4s 2ms/step - loss: 0.1724 - accuracy: 0.7481 - val_loss: 0.1836 - val_accuracy: 0.6302\n",
            "Epoch 18/200\n",
            "1634/1634 [==============================] - 4s 2ms/step - loss: 0.1714 - accuracy: 0.7518 - val_loss: 0.1703 - val_accuracy: 0.6852\n",
            "Epoch 19/200\n",
            "1634/1634 [==============================] - 3s 2ms/step - loss: 0.1716 - accuracy: 0.7498 - val_loss: 0.1902 - val_accuracy: 0.6316\n",
            "Epoch 20/200\n",
            "1634/1634 [==============================] - 4s 2ms/step - loss: 0.1721 - accuracy: 0.7503 - val_loss: 0.1512 - val_accuracy: 0.7181\n",
            "Epoch 21/200\n",
            "1634/1634 [==============================] - 4s 2ms/step - loss: 0.1711 - accuracy: 0.7517 - val_loss: 0.2417 - val_accuracy: 0.5655\n",
            "Epoch 22/200\n",
            "1634/1634 [==============================] - 4s 2ms/step - loss: 0.1727 - accuracy: 0.7494 - val_loss: 0.2179 - val_accuracy: 0.5943\n",
            "Epoch 23/200\n",
            "1634/1634 [==============================] - 4s 2ms/step - loss: 0.1703 - accuracy: 0.7508 - val_loss: 0.2575 - val_accuracy: 0.5469\n",
            "Epoch 24/200\n",
            "1634/1634 [==============================] - 4s 2ms/step - loss: 0.1706 - accuracy: 0.7515 - val_loss: 0.1674 - val_accuracy: 0.6742\n"
          ],
          "name": "stdout"
        },
        {
          "output_type": "execute_result",
          "data": {
            "text/plain": [
              "<tensorflow.python.keras.callbacks.History at 0x7f772005f198>"
            ]
          },
          "metadata": {
            "tags": []
          },
          "execution_count": 33
        }
      ]
    },
    {
      "cell_type": "code",
      "metadata": {
        "id": "hemGuemvpnzf"
      },
      "source": [
        "trial=keras.models.load_model('best-Model.h5')"
      ],
      "execution_count": 34,
      "outputs": []
    },
    {
      "cell_type": "code",
      "metadata": {
        "id": "GqFIpEtXpoNh",
        "outputId": "c055a887-4322-4ce8-a23e-d0a32858a2f0",
        "colab": {
          "base_uri": "https://localhost:8080/",
          "height": 34
        }
      },
      "source": [
        "test=model.evaluate(x_test,y_test)"
      ],
      "execution_count": 35,
      "outputs": [
        {
          "output_type": "stream",
          "text": [
            "121/121 [==============================] - 0s 1ms/step - loss: 0.1065 - accuracy: 0.8158\n"
          ],
          "name": "stdout"
        }
      ]
    },
    {
      "cell_type": "code",
      "metadata": {
        "id": "7W0piprZ8bzM"
      },
      "source": [
        "y_pred=model.predict(x_test)"
      ],
      "execution_count": 36,
      "outputs": []
    },
    {
      "cell_type": "code",
      "metadata": {
        "id": "eUaiSahb8wVg"
      },
      "source": [
        "y_pred=np.where(y_pred>=0.5,1,0)"
      ],
      "execution_count": 37,
      "outputs": []
    },
    {
      "cell_type": "code",
      "metadata": {
        "id": "SCTzINrN8dLd"
      },
      "source": [
        "y_pred=y_pred.flatten()"
      ],
      "execution_count": 38,
      "outputs": []
    },
    {
      "cell_type": "code",
      "metadata": {
        "id": "zMsdbVZC9CbV",
        "outputId": "ecbe039c-d181-47ef-df3f-a2d3213ee3fb",
        "colab": {
          "base_uri": "https://localhost:8080/",
          "height": 34
        }
      },
      "source": [
        "y_pred"
      ],
      "execution_count": 39,
      "outputs": [
        {
          "output_type": "execute_result",
          "data": {
            "text/plain": [
              "array([1, 1, 1, ..., 0, 1, 1])"
            ]
          },
          "metadata": {
            "tags": []
          },
          "execution_count": 39
        }
      ]
    },
    {
      "cell_type": "code",
      "metadata": {
        "id": "mizzHJ8Q8ha5",
        "outputId": "2e7145ea-4636-4e05-faed-f75ce5fd5756",
        "colab": {
          "base_uri": "https://localhost:8080/",
          "height": 34
        }
      },
      "source": [
        "y_test.values"
      ],
      "execution_count": 40,
      "outputs": [
        {
          "output_type": "execute_result",
          "data": {
            "text/plain": [
              "array([1, 1, 1, ..., 1, 1, 1])"
            ]
          },
          "metadata": {
            "tags": []
          },
          "execution_count": 40
        }
      ]
    },
    {
      "cell_type": "code",
      "metadata": {
        "id": "lMe4keOw60pF",
        "outputId": "50e8f3d6-e69c-459d-a683-f6d7255c8fdf",
        "colab": {
          "base_uri": "https://localhost:8080/",
          "height": 51
        }
      },
      "source": [
        "from sklearn.metrics import confusion_matrix\n",
        "\n",
        "\n",
        "confusion_matrix(y_test,y_pred)"
      ],
      "execution_count": 41,
      "outputs": [
        {
          "output_type": "execute_result",
          "data": {
            "text/plain": [
              "array([[  95,  129],\n",
              "       [ 581, 3050]])"
            ]
          },
          "metadata": {
            "tags": []
          },
          "execution_count": 41
        }
      ]
    },
    {
      "cell_type": "code",
      "metadata": {
        "id": "1U9UdldRjtQv"
      },
      "source": [
        "keras.backend.clear_session()"
      ],
      "execution_count": 42,
      "outputs": []
    },
    {
      "cell_type": "code",
      "metadata": {
        "id": "HMPaY8vJvGMt"
      },
      "source": [
        "del model"
      ],
      "execution_count": 43,
      "outputs": []
    },
    {
      "cell_type": "markdown",
      "metadata": {
        "id": "_lQAfToYs5nB"
      },
      "source": [
        "FUNCTIONAL MODEL"
      ]
    },
    {
      "cell_type": "code",
      "metadata": {
        "id": "H4i9EzI6qcjS"
      },
      "source": [
        "input1=keras.layers.Input(shape=x_train.shape[1:])\n",
        "hidden1=keras.layers.Dense(60,kernel_initializer='uniform',activation='relu')(input1)\n",
        "hidden2=keras.layers.Dense(60,kernel_initializer='uniform',activation='relu')(hidden1)\n",
        "concat=keras.layers.concatenate([input1,hidden2])\n",
        "output=keras.layers.Dense(1,activation='sigmoid')(concat)\n",
        "model=keras.models.Model(inputs=[input1],outputs=[output])"
      ],
      "execution_count": null,
      "outputs": []
    },
    {
      "cell_type": "code",
      "metadata": {
        "id": "AMvgLRHqt4xN",
        "outputId": "30ad6cb6-359d-4acf-b692-cef3e478e262",
        "colab": {
          "base_uri": "https://localhost:8080/",
          "height": 340
        }
      },
      "source": [
        "model.summary()"
      ],
      "execution_count": null,
      "outputs": [
        {
          "output_type": "stream",
          "text": [
            "Model: \"functional_1\"\n",
            "__________________________________________________________________________________________________\n",
            "Layer (type)                    Output Shape         Param #     Connected to                     \n",
            "==================================================================================================\n",
            "input_1 (InputLayer)            [(None, 9)]          0                                            \n",
            "__________________________________________________________________________________________________\n",
            "dense (Dense)                   (None, 60)           600         input_1[0][0]                    \n",
            "__________________________________________________________________________________________________\n",
            "dense_1 (Dense)                 (None, 60)           3660        dense[0][0]                      \n",
            "__________________________________________________________________________________________________\n",
            "concatenate (Concatenate)       (None, 69)           0           input_1[0][0]                    \n",
            "                                                                 dense_1[0][0]                    \n",
            "__________________________________________________________________________________________________\n",
            "dense_2 (Dense)                 (None, 1)            70          concatenate[0][0]                \n",
            "==================================================================================================\n",
            "Total params: 4,330\n",
            "Trainable params: 4,330\n",
            "Non-trainable params: 0\n",
            "__________________________________________________________________________________________________\n"
          ],
          "name": "stdout"
        }
      ]
    },
    {
      "cell_type": "code",
      "metadata": {
        "id": "iMQ0VqcFt7bX"
      },
      "source": [
        "model.compile(loss='mean_squared_error',\n",
        "              optimizer='adam',\n",
        "              metrics=['accuracy'])"
      ],
      "execution_count": null,
      "outputs": []
    },
    {
      "cell_type": "code",
      "metadata": {
        "id": "XzVvKCx6uOz1"
      },
      "source": [
        "checkpoint=keras.callbacks.ModelCheckpoint('best-Model.h5',save_best_only=True)\n",
        "early=keras.callbacks.EarlyStopping(patience=20,restore_best_weights=True)"
      ],
      "execution_count": null,
      "outputs": []
    },
    {
      "cell_type": "code",
      "metadata": {
        "id": "dc6G1XOPuVWN",
        "outputId": "fb34e88d-0c70-4647-d49e-249b1a731483",
        "colab": {
          "base_uri": "https://localhost:8080/",
          "height": 1000
        }
      },
      "source": [
        "model.fit(x_train,y_train,epochs=200,batch_size=10,validation_data=(x_valid,y_valid),callbacks=[checkpoint,early])"
      ],
      "execution_count": null,
      "outputs": [
        {
          "output_type": "stream",
          "text": [
            "Epoch 1/200\n",
            "356/356 [==============================] - 1s 3ms/step - loss: 0.0860 - accuracy: 0.8762 - val_loss: 0.0167 - val_accuracy: 0.9671\n",
            "Epoch 2/200\n",
            "356/356 [==============================] - 1s 3ms/step - loss: 0.0171 - accuracy: 0.9769 - val_loss: 0.0149 - val_accuracy: 0.9814\n",
            "Epoch 3/200\n",
            "356/356 [==============================] - 1s 3ms/step - loss: 0.0176 - accuracy: 0.9744 - val_loss: 0.0133 - val_accuracy: 0.9806\n",
            "Epoch 4/200\n",
            "356/356 [==============================] - 1s 3ms/step - loss: 0.0157 - accuracy: 0.9755 - val_loss: 0.0176 - val_accuracy: 0.9764\n",
            "Epoch 5/200\n",
            "356/356 [==============================] - 1s 3ms/step - loss: 0.0159 - accuracy: 0.9769 - val_loss: 0.0162 - val_accuracy: 0.9781\n",
            "Epoch 6/200\n",
            "356/356 [==============================] - 1s 3ms/step - loss: 0.0153 - accuracy: 0.9786 - val_loss: 0.0142 - val_accuracy: 0.9764\n",
            "Epoch 7/200\n",
            "356/356 [==============================] - 1s 3ms/step - loss: 0.0141 - accuracy: 0.9795 - val_loss: 0.0160 - val_accuracy: 0.9755\n",
            "Epoch 8/200\n",
            "356/356 [==============================] - 1s 3ms/step - loss: 0.0146 - accuracy: 0.9792 - val_loss: 0.0155 - val_accuracy: 0.9764\n",
            "Epoch 9/200\n",
            "356/356 [==============================] - 1s 3ms/step - loss: 0.0135 - accuracy: 0.9817 - val_loss: 0.0172 - val_accuracy: 0.9713\n",
            "Epoch 10/200\n",
            "356/356 [==============================] - 1s 3ms/step - loss: 0.0141 - accuracy: 0.9775 - val_loss: 0.0155 - val_accuracy: 0.9772\n",
            "Epoch 11/200\n",
            "356/356 [==============================] - 1s 3ms/step - loss: 0.0133 - accuracy: 0.9812 - val_loss: 0.0165 - val_accuracy: 0.9764\n",
            "Epoch 12/200\n",
            "356/356 [==============================] - 1s 3ms/step - loss: 0.0128 - accuracy: 0.9823 - val_loss: 0.0156 - val_accuracy: 0.9772\n",
            "Epoch 13/200\n",
            "356/356 [==============================] - 1s 3ms/step - loss: 0.0122 - accuracy: 0.9823 - val_loss: 0.0148 - val_accuracy: 0.9789\n",
            "Epoch 14/200\n",
            "356/356 [==============================] - 1s 3ms/step - loss: 0.0111 - accuracy: 0.9837 - val_loss: 0.0148 - val_accuracy: 0.9772\n",
            "Epoch 15/200\n",
            "356/356 [==============================] - 1s 3ms/step - loss: 0.0105 - accuracy: 0.9859 - val_loss: 0.0129 - val_accuracy: 0.9814\n",
            "Epoch 16/200\n",
            "356/356 [==============================] - 1s 3ms/step - loss: 0.0080 - accuracy: 0.9904 - val_loss: 0.0108 - val_accuracy: 0.9865\n",
            "Epoch 17/200\n",
            "356/356 [==============================] - 1s 3ms/step - loss: 0.0060 - accuracy: 0.9944 - val_loss: 0.0101 - val_accuracy: 0.9899\n",
            "Epoch 18/200\n",
            "356/356 [==============================] - 1s 3ms/step - loss: 0.0074 - accuracy: 0.9916 - val_loss: 0.0080 - val_accuracy: 0.9924\n",
            "Epoch 19/200\n",
            "356/356 [==============================] - 1s 3ms/step - loss: 0.0046 - accuracy: 0.9955 - val_loss: 0.0082 - val_accuracy: 0.9907\n",
            "Epoch 20/200\n",
            "356/356 [==============================] - 1s 3ms/step - loss: 0.0038 - accuracy: 0.9961 - val_loss: 0.0073 - val_accuracy: 0.9916\n",
            "Epoch 21/200\n",
            "356/356 [==============================] - 1s 3ms/step - loss: 0.0039 - accuracy: 0.9963 - val_loss: 0.0078 - val_accuracy: 0.9916\n",
            "Epoch 22/200\n",
            "356/356 [==============================] - 1s 3ms/step - loss: 0.0035 - accuracy: 0.9966 - val_loss: 0.0071 - val_accuracy: 0.9916\n",
            "Epoch 23/200\n",
            "356/356 [==============================] - 1s 3ms/step - loss: 0.0032 - accuracy: 0.9963 - val_loss: 0.0066 - val_accuracy: 0.9924\n",
            "Epoch 24/200\n",
            "356/356 [==============================] - 1s 3ms/step - loss: 0.0030 - accuracy: 0.9972 - val_loss: 0.0062 - val_accuracy: 0.9932\n",
            "Epoch 25/200\n",
            "356/356 [==============================] - 1s 3ms/step - loss: 0.0033 - accuracy: 0.9969 - val_loss: 0.0066 - val_accuracy: 0.9932\n",
            "Epoch 26/200\n",
            "356/356 [==============================] - 1s 3ms/step - loss: 0.0032 - accuracy: 0.9963 - val_loss: 0.0094 - val_accuracy: 0.9899\n",
            "Epoch 27/200\n",
            "356/356 [==============================] - 1s 3ms/step - loss: 0.0028 - accuracy: 0.9972 - val_loss: 0.0065 - val_accuracy: 0.9932\n",
            "Epoch 28/200\n",
            "356/356 [==============================] - 1s 3ms/step - loss: 0.0024 - accuracy: 0.9980 - val_loss: 0.0070 - val_accuracy: 0.9916\n",
            "Epoch 29/200\n",
            "356/356 [==============================] - 1s 3ms/step - loss: 0.0024 - accuracy: 0.9977 - val_loss: 0.0095 - val_accuracy: 0.9873\n",
            "Epoch 30/200\n",
            "356/356 [==============================] - 1s 3ms/step - loss: 0.0029 - accuracy: 0.9969 - val_loss: 0.0065 - val_accuracy: 0.9932\n",
            "Epoch 31/200\n",
            "356/356 [==============================] - 1s 3ms/step - loss: 0.0026 - accuracy: 0.9972 - val_loss: 0.0071 - val_accuracy: 0.9924\n",
            "Epoch 32/200\n",
            "356/356 [==============================] - 1s 3ms/step - loss: 0.0021 - accuracy: 0.9980 - val_loss: 0.0066 - val_accuracy: 0.9916\n",
            "Epoch 33/200\n",
            "356/356 [==============================] - 1s 3ms/step - loss: 0.0022 - accuracy: 0.9980 - val_loss: 0.0067 - val_accuracy: 0.9924\n",
            "Epoch 34/200\n",
            "356/356 [==============================] - 1s 3ms/step - loss: 0.0037 - accuracy: 0.9949 - val_loss: 0.0069 - val_accuracy: 0.9924\n",
            "Epoch 35/200\n",
            "356/356 [==============================] - 1s 3ms/step - loss: 0.0023 - accuracy: 0.9980 - val_loss: 0.0073 - val_accuracy: 0.9932\n",
            "Epoch 36/200\n",
            "356/356 [==============================] - 1s 3ms/step - loss: 0.0024 - accuracy: 0.9975 - val_loss: 0.0067 - val_accuracy: 0.9932\n",
            "Epoch 37/200\n",
            "356/356 [==============================] - 1s 3ms/step - loss: 0.0020 - accuracy: 0.9977 - val_loss: 0.0065 - val_accuracy: 0.9916\n",
            "Epoch 38/200\n",
            "356/356 [==============================] - 1s 3ms/step - loss: 0.0031 - accuracy: 0.9961 - val_loss: 0.0066 - val_accuracy: 0.9924\n",
            "Epoch 39/200\n",
            "356/356 [==============================] - 1s 3ms/step - loss: 0.0022 - accuracy: 0.9980 - val_loss: 0.0066 - val_accuracy: 0.9932\n",
            "Epoch 40/200\n",
            "356/356 [==============================] - 1s 3ms/step - loss: 0.0022 - accuracy: 0.9977 - val_loss: 0.0066 - val_accuracy: 0.9932\n",
            "Epoch 41/200\n",
            "356/356 [==============================] - 1s 2ms/step - loss: 0.0018 - accuracy: 0.9983 - val_loss: 0.0066 - val_accuracy: 0.9932\n",
            "Epoch 42/200\n",
            "356/356 [==============================] - 1s 3ms/step - loss: 0.0019 - accuracy: 0.9983 - val_loss: 0.0063 - val_accuracy: 0.9932\n",
            "Epoch 43/200\n",
            "356/356 [==============================] - 1s 3ms/step - loss: 0.0018 - accuracy: 0.9983 - val_loss: 0.0062 - val_accuracy: 0.9924\n",
            "Epoch 44/200\n",
            "356/356 [==============================] - 1s 3ms/step - loss: 0.0021 - accuracy: 0.9977 - val_loss: 0.0066 - val_accuracy: 0.9932\n"
          ],
          "name": "stdout"
        },
        {
          "output_type": "execute_result",
          "data": {
            "text/plain": [
              "<tensorflow.python.keras.callbacks.History at 0x7fbb95c94320>"
            ]
          },
          "metadata": {
            "tags": []
          },
          "execution_count": 147
        }
      ]
    },
    {
      "cell_type": "code",
      "metadata": {
        "id": "ydBFYeQjufdV"
      },
      "source": [
        "trial=keras.models.load_model('best-Model.h5')"
      ],
      "execution_count": null,
      "outputs": []
    },
    {
      "cell_type": "code",
      "metadata": {
        "id": "X3zOSarVumn9",
        "outputId": "e4fd467d-43eb-4cc7-91fb-b866633b19ab",
        "colab": {
          "base_uri": "https://localhost:8080/",
          "height": 34
        }
      },
      "source": [
        "test=model.evaluate(x_test,y_test)"
      ],
      "execution_count": null,
      "outputs": [
        {
          "output_type": "stream",
          "text": [
            "50/50 [==============================] - 0s 2ms/step - loss: 0.0041 - accuracy: 0.9956\n"
          ],
          "name": "stdout"
        }
      ]
    },
    {
      "cell_type": "code",
      "metadata": {
        "id": "OwzodsM9uq6V"
      },
      "source": [
        "keras.backend.clear_session()"
      ],
      "execution_count": null,
      "outputs": []
    },
    {
      "cell_type": "code",
      "metadata": {
        "id": "vWjqh48cuzBs"
      },
      "source": [
        "del model"
      ],
      "execution_count": null,
      "outputs": []
    },
    {
      "cell_type": "code",
      "metadata": {
        "id": "-G569k8Fu-9k"
      },
      "source": [
        ""
      ],
      "execution_count": null,
      "outputs": []
    }
  ]
}